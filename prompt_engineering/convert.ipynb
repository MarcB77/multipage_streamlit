{
 "cells": [
  {
   "cell_type": "code",
   "execution_count": 6,
   "metadata": {},
   "outputs": [],
   "source": [
    "import pandas as pd"
   ]
  },
  {
   "cell_type": "code",
   "execution_count": 7,
   "metadata": {},
   "outputs": [],
   "source": [
    "df = pd.read_csv(\"data/opta_sample_data_2.csv\")"
   ]
  },
  {
   "cell_type": "code",
   "execution_count": 8,
   "metadata": {},
   "outputs": [
    {
     "data": {
      "text/html": [
       "<div>\n",
       "<style scoped>\n",
       "    .dataframe tbody tr th:only-of-type {\n",
       "        vertical-align: middle;\n",
       "    }\n",
       "\n",
       "    .dataframe tbody tr th {\n",
       "        vertical-align: top;\n",
       "    }\n",
       "\n",
       "    .dataframe thead th {\n",
       "        text-align: right;\n",
       "    }\n",
       "</style>\n",
       "<table border=\"1\" class=\"dataframe\">\n",
       "  <thead>\n",
       "    <tr style=\"text-align: right;\">\n",
       "      <th></th>\n",
       "      <th>ID</th>\n",
       "      <th>GAME_ID</th>\n",
       "      <th>TEAM_ID</th>\n",
       "      <th>TEAM_NAME</th>\n",
       "      <th>GOALS</th>\n",
       "      <th>FIRST_HALF_GOALS</th>\n",
       "      <th>POSSESSION_PERCENTAGE</th>\n",
       "      <th>TOTAL_PASS</th>\n",
       "      <th>EVENT_TYPE_ID</th>\n",
       "      <th>EVENT_NAME</th>\n",
       "      <th>EVENT_PERIOD_MINUTE</th>\n",
       "      <th>HOME_TEAM</th>\n",
       "      <th>GAME_DATE</th>\n",
       "    </tr>\n",
       "  </thead>\n",
       "  <tbody>\n",
       "    <tr>\n",
       "      <th>0</th>\n",
       "      <td>1848890342</td>\n",
       "      <td>919266</td>\n",
       "      <td>14</td>\n",
       "      <td>Liverpool</td>\n",
       "      <td>4</td>\n",
       "      <td>2</td>\n",
       "      <td>72.3</td>\n",
       "      <td>737</td>\n",
       "      <td>1</td>\n",
       "      <td>Pass</td>\n",
       "      <td>76</td>\n",
       "      <td>14</td>\n",
       "      <td>2018-05-13T15:00:00Z</td>\n",
       "    </tr>\n",
       "    <tr>\n",
       "      <th>1</th>\n",
       "      <td>1119073579</td>\n",
       "      <td>919266</td>\n",
       "      <td>36</td>\n",
       "      <td>Brighton and Hove Albion</td>\n",
       "      <td>0</td>\n",
       "      <td>0</td>\n",
       "      <td>27.7</td>\n",
       "      <td>275</td>\n",
       "      <td>1</td>\n",
       "      <td>Pass</td>\n",
       "      <td>47</td>\n",
       "      <td>14</td>\n",
       "      <td>2018-05-13T15:00:00Z</td>\n",
       "    </tr>\n",
       "    <tr>\n",
       "      <th>2</th>\n",
       "      <td>1848890342</td>\n",
       "      <td>919266</td>\n",
       "      <td>14</td>\n",
       "      <td>Liverpool</td>\n",
       "      <td>4</td>\n",
       "      <td>2</td>\n",
       "      <td>72.3</td>\n",
       "      <td>737</td>\n",
       "      <td>1</td>\n",
       "      <td>Pass</td>\n",
       "      <td>16</td>\n",
       "      <td>14</td>\n",
       "      <td>2018-05-13T15:00:00Z</td>\n",
       "    </tr>\n",
       "    <tr>\n",
       "      <th>3</th>\n",
       "      <td>1848890342</td>\n",
       "      <td>919266</td>\n",
       "      <td>14</td>\n",
       "      <td>Liverpool</td>\n",
       "      <td>4</td>\n",
       "      <td>2</td>\n",
       "      <td>72.3</td>\n",
       "      <td>737</td>\n",
       "      <td>1</td>\n",
       "      <td>Pass</td>\n",
       "      <td>2</td>\n",
       "      <td>14</td>\n",
       "      <td>2018-05-13T15:00:00Z</td>\n",
       "    </tr>\n",
       "    <tr>\n",
       "      <th>4</th>\n",
       "      <td>1119073579</td>\n",
       "      <td>919266</td>\n",
       "      <td>36</td>\n",
       "      <td>Brighton and Hove Albion</td>\n",
       "      <td>0</td>\n",
       "      <td>0</td>\n",
       "      <td>27.7</td>\n",
       "      <td>275</td>\n",
       "      <td>10</td>\n",
       "      <td>Save</td>\n",
       "      <td>32</td>\n",
       "      <td>14</td>\n",
       "      <td>2018-05-13T15:00:00Z</td>\n",
       "    </tr>\n",
       "  </tbody>\n",
       "</table>\n",
       "</div>"
      ],
      "text/plain": [
       "           ID  GAME_ID  TEAM_ID                 TEAM_NAME  GOALS  \\\n",
       "0  1848890342   919266       14                 Liverpool      4   \n",
       "1  1119073579   919266       36  Brighton and Hove Albion      0   \n",
       "2  1848890342   919266       14                 Liverpool      4   \n",
       "3  1848890342   919266       14                 Liverpool      4   \n",
       "4  1119073579   919266       36  Brighton and Hove Albion      0   \n",
       "\n",
       "   FIRST_HALF_GOALS  POSSESSION_PERCENTAGE  TOTAL_PASS  EVENT_TYPE_ID  \\\n",
       "0                 2                   72.3         737              1   \n",
       "1                 0                   27.7         275              1   \n",
       "2                 2                   72.3         737              1   \n",
       "3                 2                   72.3         737              1   \n",
       "4                 0                   27.7         275             10   \n",
       "\n",
       "  EVENT_NAME  EVENT_PERIOD_MINUTE  HOME_TEAM             GAME_DATE  \n",
       "0       Pass                   76         14  2018-05-13T15:00:00Z  \n",
       "1       Pass                   47         14  2018-05-13T15:00:00Z  \n",
       "2       Pass                   16         14  2018-05-13T15:00:00Z  \n",
       "3       Pass                    2         14  2018-05-13T15:00:00Z  \n",
       "4       Save                   32         14  2018-05-13T15:00:00Z  "
      ]
     },
     "execution_count": 8,
     "metadata": {},
     "output_type": "execute_result"
    }
   ],
   "source": [
    "df.head()"
   ]
  },
  {
   "attachments": {},
   "cell_type": "markdown",
   "metadata": {},
   "source": [
    "# Create complete event prompt"
   ]
  },
  {
   "cell_type": "code",
   "execution_count": 9,
   "metadata": {},
   "outputs": [
    {
     "name": "stdout",
     "output_type": "stream",
     "text": [
      "['Liverpool scoorde in minuut 39. ', 'Liverpool scoorde in minuut 52. ', 'Liverpool scoorde in minuut 84. ', 'Liverpool scoorde in minuut 25. ']\n"
     ]
    }
   ],
   "source": [
    "df_goals = df.query(\"EVENT_NAME == 'Goal'\")\n",
    "goal_events = {\n",
    "    'Team': df_goals.TEAM_NAME.values.tolist(),\n",
    "    'Event period minute': df_goals.EVENT_PERIOD_MINUTE.values.tolist()\n",
    "}\n",
    "\n",
    "event_prompt = [str(team) + \" scoorde in minuut \" + str(goal_events['Event period minute'][index]) + \". \" for index, team in enumerate(goal_events['Team'])]\n",
    "\n",
    "print(event_prompt)"
   ]
  },
  {
   "attachments": {},
   "cell_type": "markdown",
   "metadata": {},
   "source": [
    "# Get Home/Away team"
   ]
  },
  {
   "cell_type": "code",
   "execution_count": 10,
   "metadata": {},
   "outputs": [
    {
     "name": "stdout",
     "output_type": "stream",
     "text": [
      "Liverpool\n",
      "Brighton and Hove Albion\n"
     ]
    }
   ],
   "source": [
    "get_home_team = df.query('TEAM_ID == HOME_TEAM')\n",
    "get_away_team = df.query('TEAM_ID != HOME_TEAM')\n",
    "\n",
    "home_team = get_home_team.TEAM_NAME.value_counts().index.tolist()\n",
    "away_team = get_away_team.TEAM_NAME.value_counts().index.tolist()\n",
    "\n",
    "print(home_team[0])\n",
    "print(away_team[0])"
   ]
  },
  {
   "attachments": {},
   "cell_type": "markdown",
   "metadata": {},
   "source": [
    "# Get score"
   ]
  },
  {
   "cell_type": "code",
   "execution_count": 11,
   "metadata": {},
   "outputs": [
    {
     "name": "stdout",
     "output_type": "stream",
     "text": [
      "{'Teams': ['Liverpool', 'Brighton and Hove Albion'], 'Goals': [4, 0]}\n"
     ]
    }
   ],
   "source": [
    "home_team_score = get_home_team.GOALS.value_counts().index.tolist()\n",
    "away_team_score = get_away_team.GOALS.value_counts().index.tolist()\n",
    "\n",
    "score_dict = {\n",
    "    'Teams': [home_team[0], away_team[0]],\n",
    "    'Goals': [home_team_score[0], away_team_score[0]]\n",
    "}\n",
    "print(score_dict)"
   ]
  },
  {
   "attachments": {},
   "cell_type": "markdown",
   "metadata": {},
   "source": [
    "# Get winning team"
   ]
  },
  {
   "cell_type": "code",
   "execution_count": 12,
   "metadata": {},
   "outputs": [
    {
     "name": "stdout",
     "output_type": "stream",
     "text": [
      "Liverpool\n",
      "Brighton and Hove Albion\n"
     ]
    }
   ],
   "source": [
    "winning_team_df = df.sort_values(by=\"GOALS\", ascending=False)\n",
    "winning_team = winning_team_df.TEAM_NAME.iloc[0]\n",
    "print(winning_team)\n",
    "\n",
    "losing_team_df = df.sort_values(by=\"GOALS\", ascending=True)\n",
    "losing_team = losing_team_df.TEAM_NAME.iloc[0]\n",
    "print(losing_team)"
   ]
  },
  {
   "attachments": {},
   "cell_type": "markdown",
   "metadata": {},
   "source": [
    "# Possession Percentage"
   ]
  },
  {
   "cell_type": "code",
   "execution_count": 13,
   "metadata": {},
   "outputs": [
    {
     "name": "stdout",
     "output_type": "stream",
     "text": [
      "72.3 Liverpool\n",
      "27.7 Brighton and Hove Albion\n"
     ]
    }
   ],
   "source": [
    "home_team_possession = get_home_team.POSSESSION_PERCENTAGE.value_counts().index.tolist()\n",
    "away_team_possession = get_away_team.POSSESSION_PERCENTAGE.value_counts().index.tolist()\n",
    "\n",
    "print(home_team_possession[0], home_team[0])\n",
    "print(away_team_possession[0], away_team[0])"
   ]
  },
  {
   "cell_type": "code",
   "execution_count": 14,
   "metadata": {},
   "outputs": [],
   "source": [
    "prompt = \"\"\"Schrijf een wedstrijd samenvatting met minimaal 100 woorden en met maximaal 200 woorden over de tekst.\n",
    "            Schrijf in de stijl van een sport verslaggever.\n",
    "            tekst: \n",
    "                Wedstrijd: \"\"\"+str(home_team[0])+\"\"\" speelt thuis tegen \"\"\"+str(away_team[0])+\"\"\".\n",
    "                Events: \"\"\"+\"\".join(event_prompt)+\"\"\"\n",
    "                Balbezit: \"\"\"+str(home_team[0])+\"\"\" Had \"\"\"+str(home_team_possession[0])+\"\"\" procent balbezit en \"\"\"+str(away_team[0])+\"\"\" had \"\"\"+str(away_team_possession[0])+\"\"\" procent balbezit.\n",
    "                Eindstand: \"\"\"+str(winning_team)+\"\"\" heeft gewonnen met \"\"\"+str(score_dict['Goals'][0])+\"\"\"-\"\"\"+str(score_dict['Goals'][1])+\"\"\".\"\"\""
   ]
  },
  {
   "cell_type": "code",
   "execution_count": 15,
   "metadata": {},
   "outputs": [
    {
     "name": "stdout",
     "output_type": "stream",
     "text": [
      "Schrijf een wedstrijd samenvatting met minimaal 100 woorden en met maximaal 200 woorden over de tekst.\n",
      "            Schrijf in de stijl van een sport verslaggever.\n",
      "            tekst: \n",
      "                Wedstrijd: Liverpool speelt thuis tegen Brighton and Hove Albion.\n",
      "                Events: Liverpool scoorde in minuut 39. Liverpool scoorde in minuut 52. Liverpool scoorde in minuut 84. Liverpool scoorde in minuut 25. \n",
      "                Balbezit: Liverpool Had 72.3 procent balbezit en Brighton and Hove Albion had 27.7 procent balbezit.\n",
      "                Eindstand: Liverpool heeft gewonnen met 4-0.\n"
     ]
    }
   ],
   "source": [
    "print(prompt)"
   ]
  },
  {
   "attachments": {},
   "cell_type": "markdown",
   "metadata": {},
   "source": [
    "# Create Dataframe: Prompt + Completion"
   ]
  },
  {
   "cell_type": "code",
   "execution_count": 16,
   "metadata": {},
   "outputs": [],
   "source": [
    "prompt_and_completion = {\n",
    "    'Prompt': str(prompt), \n",
    "    'Completion': \"Hier komt de gehele samenvatting die bij de wedstrijd hoort.\"\n",
    "}"
   ]
  },
  {
   "cell_type": "code",
   "execution_count": 17,
   "metadata": {},
   "outputs": [
    {
     "data": {
      "text/html": [
       "<div>\n",
       "<style scoped>\n",
       "    .dataframe tbody tr th:only-of-type {\n",
       "        vertical-align: middle;\n",
       "    }\n",
       "\n",
       "    .dataframe tbody tr th {\n",
       "        vertical-align: top;\n",
       "    }\n",
       "\n",
       "    .dataframe thead th {\n",
       "        text-align: right;\n",
       "    }\n",
       "</style>\n",
       "<table border=\"1\" class=\"dataframe\">\n",
       "  <thead>\n",
       "    <tr style=\"text-align: right;\">\n",
       "      <th></th>\n",
       "      <th>Prompt</th>\n",
       "      <th>Completion</th>\n",
       "    </tr>\n",
       "  </thead>\n",
       "  <tbody>\n",
       "    <tr>\n",
       "      <th>0</th>\n",
       "      <td>Schrijf een wedstrijd samenvatting met minimaal 100 woorden en met maximaal 200 woorden over de tekst.\\n            Schrijf in de stijl van een sport verslaggever.\\n            tekst: \\n                Wedstrijd: Liverpool speelt thuis tegen Brighton and Hove Albion.\\n                Events: Liverpool scoorde in minuut 39. Liverpool scoorde in minuut 52. Liverpool scoorde in minuut 84. Liverpool scoorde in minuut 25. \\n                Balbezit: Liverpool Had 72.3 procent balbezit en Brighton and Hove Albion had 27.7 procent balbezit.\\n                Eindstand: Liverpool heeft gewonnen met 4-0.</td>\n",
       "      <td>Hier komt de gehele samenvatting die bij de wedstrijd hoort.</td>\n",
       "    </tr>\n",
       "  </tbody>\n",
       "</table>\n",
       "</div>"
      ],
      "text/plain": [
       "                                                                                                                                                                                                                                                                                                                                                                                                                                                                                                                                                                                                                      Prompt  \\\n",
       "0  Schrijf een wedstrijd samenvatting met minimaal 100 woorden en met maximaal 200 woorden over de tekst.\\n            Schrijf in de stijl van een sport verslaggever.\\n            tekst: \\n                Wedstrijd: Liverpool speelt thuis tegen Brighton and Hove Albion.\\n                Events: Liverpool scoorde in minuut 39. Liverpool scoorde in minuut 52. Liverpool scoorde in minuut 84. Liverpool scoorde in minuut 25. \\n                Balbezit: Liverpool Had 72.3 procent balbezit en Brighton and Hove Albion had 27.7 procent balbezit.\\n                Eindstand: Liverpool heeft gewonnen met 4-0.   \n",
       "\n",
       "                                                     Completion  \n",
       "0  Hier komt de gehele samenvatting die bij de wedstrijd hoort.  "
      ]
     },
     "metadata": {},
     "output_type": "display_data"
    }
   ],
   "source": [
    "pd.set_option(\"max_colwidth\", None)\n",
    "prompt_completion_df = pd.DataFrame(prompt_and_completion, index=[0])\n",
    "display(prompt_completion_df)\n"
   ]
  },
  {
   "cell_type": "code",
   "execution_count": 18,
   "metadata": {},
   "outputs": [
    {
     "data": {
      "text/html": [
       "<div>\n",
       "<style scoped>\n",
       "    .dataframe tbody tr th:only-of-type {\n",
       "        vertical-align: middle;\n",
       "    }\n",
       "\n",
       "    .dataframe tbody tr th {\n",
       "        vertical-align: top;\n",
       "    }\n",
       "\n",
       "    .dataframe thead th {\n",
       "        text-align: right;\n",
       "    }\n",
       "</style>\n",
       "<table border=\"1\" class=\"dataframe\">\n",
       "  <thead>\n",
       "    <tr style=\"text-align: right;\">\n",
       "      <th></th>\n",
       "      <th>Prompt</th>\n",
       "      <th>Completion</th>\n",
       "    </tr>\n",
       "  </thead>\n",
       "  <tbody>\n",
       "    <tr>\n",
       "      <th>0</th>\n",
       "      <td>Schrijf een wedstrijd samenvatting met minimaal 100 woorden en met maximaal 200 woorden over de tekst.\\n            Schrijf in de stijl van een sport verslaggever.\\n            tekst: \\n                Wedstrijd: Liverpool speelt thuis tegen Brighton and Hove Albion.\\n                Events: Liverpool scoorde in minuut 39. Liverpool scoorde in minuut 52. Liverpool scoorde in minuut 84. Liverpool scoorde in minuut 25. \\n                Balbezit: Liverpool Had 72.3 procent balbezit en Brighton and Hove Albion had 27.7 procent balbezit.\\n                Eindstand: Liverpool heeft gewonnen met 4-0.</td>\n",
       "      <td>Hier komt de gehele samenvatting die bij de wedstrijd hoort.</td>\n",
       "    </tr>\n",
       "  </tbody>\n",
       "</table>\n",
       "</div>"
      ],
      "text/plain": [
       "                                                                                                                                                                                                                                                                                                                                                                                                                                                                                                                                                                                                                      Prompt  \\\n",
       "0  Schrijf een wedstrijd samenvatting met minimaal 100 woorden en met maximaal 200 woorden over de tekst.\\n            Schrijf in de stijl van een sport verslaggever.\\n            tekst: \\n                Wedstrijd: Liverpool speelt thuis tegen Brighton and Hove Albion.\\n                Events: Liverpool scoorde in minuut 39. Liverpool scoorde in minuut 52. Liverpool scoorde in minuut 84. Liverpool scoorde in minuut 25. \\n                Balbezit: Liverpool Had 72.3 procent balbezit en Brighton and Hove Albion had 27.7 procent balbezit.\\n                Eindstand: Liverpool heeft gewonnen met 4-0.   \n",
       "\n",
       "                                                     Completion  \n",
       "0  Hier komt de gehele samenvatting die bij de wedstrijd hoort.  "
      ]
     },
     "metadata": {},
     "output_type": "display_data"
    }
   ],
   "source": [
    "df_converted = pd.read_csv(\"./converted_prompts/opta_converted.csv\", index_col=0)\n",
    "display(df_converted)"
   ]
  },
  {
   "cell_type": "code",
   "execution_count": 5,
   "metadata": {},
   "outputs": [],
   "source": [
    "import datetime\n",
    "import pytz\n",
    "import calendar\n",
    "import locale\n",
    "\n",
    "locale.setlocale(category=locale.LC_ALL, locale='nl_NL')\n",
    "\n",
    "created_at = datetime.datetime.now(pytz.timezone(\"Europe/Amsterdam\"))\n",
    "created_at_formatted = (\n",
    "    str(calendar.month_name[created_at.month])\n",
    "    + \" \"\n",
    "    + str(created_at.day)\n",
    "    + \": \"\n",
    "    + str(created_at.strftime(\"%H:%M:%S\"))\n",
    ")"
   ]
  },
  {
   "cell_type": "code",
   "execution_count": 6,
   "metadata": {},
   "outputs": [
    {
     "data": {
      "text/plain": [
       "'maart 23: 10:53:48'"
      ]
     },
     "execution_count": 6,
     "metadata": {},
     "output_type": "execute_result"
    }
   ],
   "source": [
    "created_at_formatted"
   ]
  },
  {
   "cell_type": "code",
   "execution_count": null,
   "metadata": {},
   "outputs": [],
   "source": []
  }
 ],
 "metadata": {
  "kernelspec": {
   "display_name": "Python 3",
   "language": "python",
   "name": "python3"
  },
  "language_info": {
   "codemirror_mode": {
    "name": "ipython",
    "version": 3
   },
   "file_extension": ".py",
   "mimetype": "text/x-python",
   "name": "python",
   "nbconvert_exporter": "python",
   "pygments_lexer": "ipython3",
   "version": "3.9.10"
  },
  "orig_nbformat": 4
 },
 "nbformat": 4,
 "nbformat_minor": 2
}
